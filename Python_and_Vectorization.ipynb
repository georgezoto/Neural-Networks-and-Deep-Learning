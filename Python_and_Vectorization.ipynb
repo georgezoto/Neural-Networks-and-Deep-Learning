{
  "nbformat": 4,
  "nbformat_minor": 0,
  "metadata": {
    "colab": {
      "name": "Python and Vectorization",
      "version": "0.3.2",
      "provenance": [],
      "collapsed_sections": [],
      "include_colab_link": true
    },
    "kernelspec": {
      "name": "python3",
      "display_name": "Python 3"
    }
  },
  "cells": [
    {
      "cell_type": "markdown",
      "metadata": {
        "id": "view-in-github",
        "colab_type": "text"
      },
      "source": [
        "<a href=\"https://colab.research.google.com/github/georgezoto/Neural-Networks-and-Deep-Learning/blob/master/Python_and_Vectorization.ipynb\" target=\"_parent\"><img src=\"https://colab.research.google.com/assets/colab-badge.svg\" alt=\"Open In Colab\"/></a>"
      ]
    },
    {
      "metadata": {
        "id": "a1nhbyCtA5JS",
        "colab_type": "text"
      },
      "cell_type": "markdown",
      "source": [
        "###Neural Networks and Deep Learning by Andrew Ng\n",
        "###Python and Vectorization\n",
        "https://www.coursera.org/learn/neural-networks-deep-learning/lecture/NYnog/vectorization"
      ]
    },
    {
      "metadata": {
        "id": "J_8Lo7ZsAY7h",
        "colab_type": "code",
        "colab": {}
      },
      "cell_type": "code",
      "source": [
        "import numpy as np\n",
        "import time"
      ],
      "execution_count": 0,
      "outputs": []
    },
    {
      "metadata": {
        "id": "fqNTVVp1An29",
        "colab_type": "code",
        "outputId": "ff0182c3-17d7-40e6-f486-28b9cf1127ae",
        "colab": {
          "base_uri": "https://localhost:8080/",
          "height": 34
        }
      },
      "cell_type": "code",
      "source": [
        "a = np.array([1,2,3,4])\n",
        "a"
      ],
      "execution_count": 0,
      "outputs": [
        {
          "output_type": "execute_result",
          "data": {
            "text/plain": [
              "array([1, 2, 3, 4])"
            ]
          },
          "metadata": {
            "tags": []
          },
          "execution_count": 4
        }
      ]
    },
    {
      "metadata": {
        "id": "a21TFoP8Bhpk",
        "colab_type": "code",
        "outputId": "519a344e-bbe5-4a23-8494-18804c47cee3",
        "colab": {
          "base_uri": "https://localhost:8080/",
          "height": 51
        }
      },
      "cell_type": "code",
      "source": [
        "a = np.random.rand(10**6)\n",
        "b = np.random.rand(10**6)\n",
        "\n",
        "tic = time.time()\n",
        "c = np.dot(a,b)\n",
        "toc = time.time()\n",
        "print('Vectorized version:' + str(10**3*(toc-tic)) + 'ms. c:' + str(c))\n",
        "\n",
        "tic = time.time()\n",
        "c = 0\n",
        "for i in range(10**6):\n",
        "  c+=a[i]*b[i]\n",
        "toc = time.time()\n",
        "print('For loop:' + str(10**3*(toc-tic)) + 'ms. c:' + str(c))"
      ],
      "execution_count": 0,
      "outputs": [
        {
          "output_type": "stream",
          "text": [
            "Vectorized version:2.171039581298828ms. c:250177.6876752655\n",
            "For loop:485.96906661987305ms. c:250177.68767527828\n"
          ],
          "name": "stdout"
        }
      ]
    },
    {
      "metadata": {
        "id": "4o9MxwR5Bx0T",
        "colab_type": "code",
        "colab": {}
      },
      "cell_type": "code",
      "source": [
        ""
      ],
      "execution_count": 0,
      "outputs": []
    }
  ]
}