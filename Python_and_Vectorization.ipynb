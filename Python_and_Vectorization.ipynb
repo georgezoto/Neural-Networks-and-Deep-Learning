{
  "nbformat": 4,
  "nbformat_minor": 0,
  "metadata": {
    "colab": {
      "name": "Python and Vectorization",
      "version": "0.3.2",
      "provenance": [],
      "collapsed_sections": [],
      "include_colab_link": true
    },
    "kernelspec": {
      "name": "python3",
      "display_name": "Python 3"
    }
  },
  "cells": [
    {
      "cell_type": "markdown",
      "metadata": {
        "id": "view-in-github",
        "colab_type": "text"
      },
      "source": [
        "<a href=\"https://colab.research.google.com/github/georgezoto/Neural-Networks-and-Deep-Learning/blob/master/Python_and_Vectorization.ipynb\" target=\"_parent\"><img src=\"https://colab.research.google.com/assets/colab-badge.svg\" alt=\"Open In Colab\"/></a>"
      ]
    },
    {
      "metadata": {
        "id": "a1nhbyCtA5JS",
        "colab_type": "text"
      },
      "cell_type": "markdown",
      "source": [
        "###Neural Networks and Deep Learning by Andrew Ng\n",
        "###Python and Vectorization\n",
        "https://www.coursera.org/learn/neural-networks-deep-learning/lecture/NYnog/vectorization"
      ]
    },
    {
      "metadata": {
        "id": "J_8Lo7ZsAY7h",
        "colab_type": "code",
        "colab": {}
      },
      "cell_type": "code",
      "source": [
        "import numpy as np\n",
        "import time"
      ],
      "execution_count": 0,
      "outputs": []
    },
    {
      "metadata": {
        "id": "fqNTVVp1An29",
        "colab_type": "code",
        "outputId": "e98a11bc-1840-4161-a9fe-06146469be23",
        "colab": {
          "base_uri": "https://localhost:8080/",
          "height": 34
        }
      },
      "cell_type": "code",
      "source": [
        "a = np.array([1,2,3,4])\n",
        "a"
      ],
      "execution_count": 18,
      "outputs": [
        {
          "output_type": "execute_result",
          "data": {
            "text/plain": [
              "array([1, 2, 3, 4])"
            ]
          },
          "metadata": {
            "tags": []
          },
          "execution_count": 18
        }
      ]
    },
    {
      "metadata": {
        "id": "a21TFoP8Bhpk",
        "colab_type": "code",
        "outputId": "41079b5e-92da-4398-87f5-878920a158f0",
        "colab": {
          "base_uri": "https://localhost:8080/",
          "height": 68
        }
      },
      "cell_type": "code",
      "source": [
        "a = np.random.rand(10**6)\n",
        "b = np.random.rand(10**6)\n",
        "\n",
        "tic = time.time()\n",
        "c = np.dot(a,b)\n",
        "toc = time.time()\n",
        "runtime_vectorized = toc-tic\n",
        "print('Vectorized version:' + str(10**3*(runtime_vectorized)) + ' ms. c:' + str(c))\n",
        "\n",
        "tic = time.time()\n",
        "c = 0\n",
        "for i in range(10**6):\n",
        "  c+=a[i]*b[i]\n",
        "toc = time.time()\n",
        "runtime_loop = toc-tic\n",
        "print('For loop:' + str(10**3*(runtime_loop)) + ' ms. c:' + str(c))\n",
        "print('Vectorized runtime is {} faster then iterative version'.format(int(runtime_loop/runtime_vectorized)))"
      ],
      "execution_count": 24,
      "outputs": [
        {
          "output_type": "stream",
          "text": [
            "Vectorized version:1.3234615325927734 ms. c:249641.5408250973\n",
            "For loop:437.5441074371338 ms. c:249641.54082509776\n",
            "Vectorized runtime is 330 faster then iterative version\n"
          ],
          "name": "stdout"
        }
      ]
    },
    {
      "metadata": {
        "id": "4o9MxwR5Bx0T",
        "colab_type": "code",
        "colab": {}
      },
      "cell_type": "code",
      "source": [
        ""
      ],
      "execution_count": 0,
      "outputs": []
    }
  ]
}